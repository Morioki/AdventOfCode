{
 "cells": [
  {
   "cell_type": "code",
   "execution_count": 25,
   "metadata": {},
   "outputs": [],
   "source": [
    "import pathlib\n",
    "import sys"
   ]
  },
  {
   "cell_type": "code",
   "execution_count": 26,
   "metadata": {},
   "outputs": [],
   "source": [
    "def parse(puzzle_input):\n",
    "    \"\"\"Parse input\"\"\"\n",
    "    return [int(line) for line in puzzle_input.split(',')]"
   ]
  },
  {
   "cell_type": "markdown",
   "metadata": {},
   "source": [
    "---\n",
    "\n",
    "#### Day 7 The Treachery of Whales <sub>([link](https://adventofcode.com/2021/day/7))</sub>"
   ]
  },
  {
   "cell_type": "code",
   "execution_count": 27,
   "metadata": {},
   "outputs": [],
   "source": [
    "def day7_part1(data):\n",
    "    fuel_costs = {}\n",
    "\n",
    "    # for each potential position \n",
    "    for i in range(max(data)+1):\n",
    "        # for each crab\n",
    "        cost = 0\n",
    "        for crab in data:\n",
    "            # determine \"fuel\" required to get to position\n",
    "            cost += abs(crab - i)\n",
    "            \n",
    "        # store if less fuel than current \n",
    "        fuel_costs.update({i: cost})\n",
    "    \n",
    "    # print(fuel_costs)\n",
    "    return min(zip(fuel_costs.values(), fuel_costs.keys()))[0]"
   ]
  },
  {
   "cell_type": "code",
   "execution_count": 48,
   "metadata": {},
   "outputs": [],
   "source": [
    "def day7_part2(data):\n",
    "    fuel_costs = {}\n",
    "\n",
    "    # for each potential position \n",
    "    for i in range(max(data)+1):\n",
    "        # for each crab\n",
    "        cost = 0\n",
    "        for crab in data:\n",
    "            # determine \"fuel\" required to get to position\n",
    "            change = abs(crab - i) \n",
    "            cost += int((change * (change + 1)) / 2)\n",
    "            \n",
    "        # store if less fuel than current \n",
    "        fuel_costs.update({i: cost})\n",
    "    \n",
    "    # print(fuel_costs)\n",
    "    return min(zip(fuel_costs.values(), fuel_costs.keys()))[0]"
   ]
  },
  {
   "cell_type": "code",
   "execution_count": 49,
   "metadata": {},
   "outputs": [
    {
     "name": "stdout",
     "output_type": "stream",
     "text": [
      "Part 1:  340052\n",
      "Part 2:  92948968\n"
     ]
    }
   ],
   "source": [
    "print('Part 1: ',day7_part1(parse(pathlib.Path('./data/day7.txt').read_text().strip())))\n",
    "print('Part 2: ',day7_part2(parse(pathlib.Path('./data/day7.txt').read_text().strip())))\n"
   ]
  }
 ],
 "metadata": {
  "kernelspec": {
   "display_name": "Python 3 (ipykernel)",
   "language": "python",
   "name": "python3"
  },
  "language_info": {
   "codemirror_mode": {
    "name": "ipython",
    "version": 3
   },
   "file_extension": ".py",
   "mimetype": "text/x-python",
   "name": "python",
   "nbconvert_exporter": "python",
   "pygments_lexer": "ipython3",
   "version": "3.10.6"
  },
  "vscode": {
   "interpreter": {
    "hash": "10abf9995eef367e077ab26cdbe905ef83363ea67f2a57c0b056f6f2606fcf50"
   }
  }
 },
 "nbformat": 4,
 "nbformat_minor": 4
}
