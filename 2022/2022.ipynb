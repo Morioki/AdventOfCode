{
 "cells": [
  {
   "cell_type": "code",
   "execution_count": 99,
   "metadata": {},
   "outputs": [],
   "source": [
    "import pathlib\n",
    "import sys\n",
    "import os"
   ]
  },
  {
   "cell_type": "code",
   "execution_count": 100,
   "metadata": {},
   "outputs": [],
   "source": [
    "def parse_comma(puzzle_input):\n",
    "    \"\"\"Parse input\"\"\"\n",
    "    return [int(line) for line in puzzle_input.split(',')]\n",
    "\n",
    "def parse(puzzle_input):\n",
    "    \"\"\"Parse input\"\"\"\n",
    "    return [int(line) for line in puzzle_input.split()]"
   ]
  },
  {
   "cell_type": "markdown",
   "metadata": {},
   "source": [
    "---\n",
    "\n",
    "#### Day 1 Calorie Counting <sub>([link](https://adventofcode.com/2022/day/1))</sub>"
   ]
  },
  {
   "cell_type": "code",
   "execution_count": 101,
   "metadata": {},
   "outputs": [],
   "source": [
    "def elf_rollup(puzzle_input):\n",
    "    elf_list = []\n",
    "\n",
    "    calorie_rollup = 0\n",
    "    for calorie in puzzle_input:\n",
    "        if calorie == '':\n",
    "            elf_list.append(calorie_rollup)\n",
    "            calorie_rollup = 0\n",
    "            continue\n",
    "        \n",
    "        calorie_rollup += int(calorie)\n",
    "    return elf_list"
   ]
  },
  {
   "cell_type": "code",
   "execution_count": 102,
   "metadata": {},
   "outputs": [],
   "source": [
    "def day1_part1(puzzle_input):\n",
    "    return max(elf_rollup(puzzle_input))\n",
    "\n"
   ]
  },
  {
   "cell_type": "code",
   "execution_count": 103,
   "metadata": {},
   "outputs": [],
   "source": [
    "def day1_part2(puzzle_input):\n",
    "    elf_list = elf_rollup(puzzle_input)\n",
    "\n",
    "    return sum(sorted(elf_list)[-3:])"
   ]
  },
  {
   "cell_type": "code",
   "execution_count": 104,
   "metadata": {},
   "outputs": [
    {
     "name": "stdout",
     "output_type": "stream",
     "text": [
      "64929\n",
      "193697\n"
     ]
    }
   ],
   "source": [
    "print(day1_part1(pathlib.Path('./2022/data/day1.txt').read_text().splitlines()))\n",
    "print(day1_part2(pathlib.Path('./2022/data/day1.txt').read_text().splitlines()))"
   ]
  },
  {
   "cell_type": "markdown",
   "metadata": {},
   "source": [
    "---\n",
    "\n",
    "#### Day 2 Rock Paper Scissors <sub>([link](https://adventofcode.com/2022/day/2))</sub>"
   ]
  },
  {
   "cell_type": "code",
   "execution_count": 105,
   "metadata": {},
   "outputs": [],
   "source": [
    "def get_move(enc):\n",
    "    if enc == 'A' or enc == 'X': return 'Rock'\n",
    "    elif enc == 'B' or enc == 'Y': return 'Paper'\n",
    "    elif enc == 'C' or enc == 'Z': return 'Scissors'\n",
    "    else: return ''\n",
    "\n",
    "def get_move_from_need(opp, need):\n",
    "    if need == 'X':\n",
    "        if opp == 'Rock': return 'Scissors'\n",
    "        elif opp == 'Paper': return 'Rock'\n",
    "        elif opp == 'Scissors': return 'Paper'\n",
    "        else: return ''\n",
    "    elif need == 'Y': \n",
    "        return opp\n",
    "    elif need == 'Z':\n",
    "        if opp == 'Rock': return 'Paper'\n",
    "        elif opp == 'Paper': return 'Scissors'\n",
    "        elif opp == 'Scissors': return 'Rock'\n",
    "        else: return ''\n",
    "    else: \n",
    "        return ''\n",
    "\n",
    "def calculate_score(opp, you):\n",
    "    # print(opp, you)\n",
    "    if opp == 'Rock' and you == 'Paper': score = 6\n",
    "    elif opp == 'Paper' and you == 'Scissors': score = 6\n",
    "    elif opp == 'Scissors' and you == 'Rock': score = 6\n",
    "    elif opp == you: score = 3\n",
    "    elif you == 'Rock' and opp == 'Paper': score = 0\n",
    "    elif you == 'Paper' and opp == 'Scissors': score = 0\n",
    "    elif you == 'Scissors' and opp == 'Rock': score = 0\n",
    "    else: score = 0\n",
    "    \n",
    "    if you == 'Rock': score += 1\n",
    "    elif you == 'Paper': score += 2\n",
    "    elif you == 'Scissors': score += 3\n",
    "    else: score += 0\n",
    "\n",
    "    return score"
   ]
  },
  {
   "cell_type": "code",
   "execution_count": 106,
   "metadata": {},
   "outputs": [],
   "source": [
    "def day2_part1(puzzle_input):\n",
    "    totalScore = 0\n",
    "    for rounds in puzzle_input:\n",
    "        round = rounds.split()\n",
    "        totalScore += calculate_score(get_move(round[0]), get_move(round[1]))\n",
    "    \n",
    "    return totalScore"
   ]
  },
  {
   "cell_type": "code",
   "execution_count": 107,
   "metadata": {},
   "outputs": [],
   "source": [
    "def day2_part2(puzzle_input):\n",
    "    totalScore = 0\n",
    "    for rounds in puzzle_input:\n",
    "        round = rounds.split()\n",
    "        totalScore += calculate_score(get_move(round[0]), get_move_from_need(get_move(round[0]),round[1]))\n",
    "        \n",
    "    return totalScore"
   ]
  },
  {
   "cell_type": "code",
   "execution_count": 108,
   "metadata": {},
   "outputs": [
    {
     "name": "stdout",
     "output_type": "stream",
     "text": [
      "8392\n",
      "10116\n"
     ]
    }
   ],
   "source": [
    "print(day2_part1(pathlib.Path('./2022/data/day2.txt').read_text().splitlines()))\n",
    "print(day2_part2(pathlib.Path('./2022/data/day2.txt').read_text().splitlines()))"
   ]
  },
  {
   "cell_type": "markdown",
   "metadata": {},
   "source": [
    "---\n",
    "\n",
    "#### Day 3 Rucksack Reorganization <sub>([link](https://adventofcode.com/2022/day/3))</sub>"
   ]
  },
  {
   "cell_type": "code",
   "execution_count": 138,
   "metadata": {},
   "outputs": [],
   "source": [
    "def day3_part1(puzzle_input):\n",
    "    \n",
    "    prioSum = 0\n",
    "    for rucksack in puzzle_input:\n",
    "    # rucksack = puzzle_input[0]\n",
    "        comp1 = rucksack[:len(rucksack)//2]\n",
    "        comp2 = rucksack[len(rucksack)//2:]\n",
    "\n",
    "        item = ''.join(set(comp1).intersection(comp2))\n",
    "        # print(item, ord(item)-38 if item.isupper() else ord(item)-96)\n",
    "        prioSum += ord(item)-38 if item.isupper() else ord(item)-96\n",
    "    \n",
    "    return prioSum"
   ]
  },
  {
   "cell_type": "code",
   "execution_count": 151,
   "metadata": {},
   "outputs": [],
   "source": [
    "def day3_part2(puzzle_input):\n",
    "    newInput = [puzzle_input[i:i+3] for i in range(0, len(puzzle_input),3)]\n",
    "\n",
    "    prioSum = 0\n",
    "    for group in newInput:\n",
    "        # group = newInput[0]\n",
    "        bag1 = group[0]\n",
    "        bag2 = group[1]\n",
    "        bag3 = group[2]\n",
    "\n",
    "        item = ''.join(set(bag1).intersection(bag2).intersection(bag3))\n",
    "        \n",
    "        prioSum += ord(item)-38 if item.isupper() else ord(item)-96\n",
    "\n",
    "    return prioSum"
   ]
  },
  {
   "cell_type": "code",
   "execution_count": 152,
   "metadata": {},
   "outputs": [
    {
     "name": "stdout",
     "output_type": "stream",
     "text": [
      "7990\n",
      "2602\n"
     ]
    }
   ],
   "source": [
    "print(day3_part1(pathlib.Path('./2022/data/day3.txt').read_text().splitlines()))\n",
    "print(day3_part2(pathlib.Path('./2022/data/day3.txt').read_text().splitlines()))"
   ]
  }
 ],
 "metadata": {
  "kernelspec": {
   "display_name": "Python 3 (ipykernel)",
   "language": "python",
   "name": "python3"
  },
  "language_info": {
   "codemirror_mode": {
    "name": "ipython",
    "version": 3
   },
   "file_extension": ".py",
   "mimetype": "text/x-python",
   "name": "python",
   "nbconvert_exporter": "python",
   "pygments_lexer": "ipython3",
   "version": "3.10.6"
  },
  "orig_nbformat": 4,
  "vscode": {
   "interpreter": {
    "hash": "10abf9995eef367e077ab26cdbe905ef83363ea67f2a57c0b056f6f2606fcf50"
   }
  }
 },
 "nbformat": 4,
 "nbformat_minor": 2
}
