{
 "cells": [
  {
   "cell_type": "code",
   "execution_count": 47,
   "metadata": {},
   "outputs": [],
   "source": [
    "import pathlib\n",
    "import sys\n",
    "import os\n",
    "from dataclasses import dataclass\n",
    "import numpy as np\n",
    "\n",
    "\n",
    "filePath = './data/'"
   ]
  },
  {
   "cell_type": "code",
   "execution_count": 4,
   "metadata": {},
   "outputs": [],
   "source": [
    "def parse_comma(puzzle_input):\n",
    "    \"\"\"Parse input\"\"\"\n",
    "    return [int(line) for line in puzzle_input.split(',')]\n",
    "\n",
    "def parse(puzzle_input):\n",
    "    \"\"\"Parse input\"\"\"\n",
    "    return [int(line) for line in puzzle_input.split()]"
   ]
  },
  {
   "cell_type": "markdown",
   "metadata": {},
   "source": [
    "---\n",
    "\n",
    "#### Day 1 Calorie Counting <sub>([link](https://adventofcode.com/2022/day/1))</sub>"
   ]
  },
  {
   "cell_type": "code",
   "execution_count": 5,
   "metadata": {},
   "outputs": [],
   "source": [
    "def elf_rollup(puzzle_input):\n",
    "    elf_list = []\n",
    "\n",
    "    calorie_rollup = 0\n",
    "    for calorie in puzzle_input:\n",
    "        if calorie == '':\n",
    "            elf_list.append(calorie_rollup)\n",
    "            calorie_rollup = 0\n",
    "            continue\n",
    "        \n",
    "        calorie_rollup += int(calorie)\n",
    "    return elf_list"
   ]
  },
  {
   "cell_type": "code",
   "execution_count": 6,
   "metadata": {},
   "outputs": [],
   "source": [
    "def day1_part1(puzzle_input):\n",
    "    return max(elf_rollup(puzzle_input))\n",
    "\n"
   ]
  },
  {
   "cell_type": "code",
   "execution_count": 7,
   "metadata": {},
   "outputs": [],
   "source": [
    "def day1_part2(puzzle_input):\n",
    "    elf_list = elf_rollup(puzzle_input)\n",
    "\n",
    "    return sum(sorted(elf_list)[-3:])"
   ]
  },
  {
   "cell_type": "code",
   "execution_count": 8,
   "metadata": {},
   "outputs": [
    {
     "name": "stdout",
     "output_type": "stream",
     "text": [
      "/home/grbraatz/Code/misc/AdventOfCode/2022\n",
      "64929\n",
      "193697\n"
     ]
    }
   ],
   "source": [
    "print(os.getcwd())\n",
    "print(day1_part1(pathlib.Path(filePath + 'day1.txt').read_text().splitlines()))\n",
    "print(day1_part2(pathlib.Path(filePath + 'day1.txt').read_text().splitlines()))"
   ]
  },
  {
   "cell_type": "markdown",
   "metadata": {},
   "source": [
    "---\n",
    "\n",
    "#### Day 2 Rock Paper Scissors <sub>([link](https://adventofcode.com/2022/day/2))</sub>"
   ]
  },
  {
   "cell_type": "code",
   "execution_count": 9,
   "metadata": {},
   "outputs": [],
   "source": [
    "def get_move(enc):\n",
    "    if enc == 'A' or enc == 'X': return 'Rock'\n",
    "    elif enc == 'B' or enc == 'Y': return 'Paper'\n",
    "    elif enc == 'C' or enc == 'Z': return 'Scissors'\n",
    "    else: return ''\n",
    "\n",
    "def get_move_from_need(opp, need):\n",
    "    if need == 'X':\n",
    "        if opp == 'Rock': return 'Scissors'\n",
    "        elif opp == 'Paper': return 'Rock'\n",
    "        elif opp == 'Scissors': return 'Paper'\n",
    "        else: return ''\n",
    "    elif need == 'Y': \n",
    "        return opp\n",
    "    elif need == 'Z':\n",
    "        if opp == 'Rock': return 'Paper'\n",
    "        elif opp == 'Paper': return 'Scissors'\n",
    "        elif opp == 'Scissors': return 'Rock'\n",
    "        else: return ''\n",
    "    else: \n",
    "        return ''\n",
    "\n",
    "def calculate_score(opp, you):\n",
    "    # print(opp, you)\n",
    "    if opp == 'Rock' and you == 'Paper': score = 6\n",
    "    elif opp == 'Paper' and you == 'Scissors': score = 6\n",
    "    elif opp == 'Scissors' and you == 'Rock': score = 6\n",
    "    elif opp == you: score = 3\n",
    "    elif you == 'Rock' and opp == 'Paper': score = 0\n",
    "    elif you == 'Paper' and opp == 'Scissors': score = 0\n",
    "    elif you == 'Scissors' and opp == 'Rock': score = 0\n",
    "    else: score = 0\n",
    "    \n",
    "    if you == 'Rock': score += 1\n",
    "    elif you == 'Paper': score += 2\n",
    "    elif you == 'Scissors': score += 3\n",
    "    else: score += 0\n",
    "\n",
    "    return score"
   ]
  },
  {
   "cell_type": "code",
   "execution_count": 10,
   "metadata": {},
   "outputs": [],
   "source": [
    "def day2_part1(puzzle_input):\n",
    "    totalScore = 0\n",
    "    for rounds in puzzle_input:\n",
    "        round = rounds.split()\n",
    "        totalScore += calculate_score(get_move(round[0]), get_move(round[1]))\n",
    "    \n",
    "    return totalScore"
   ]
  },
  {
   "cell_type": "code",
   "execution_count": 11,
   "metadata": {},
   "outputs": [],
   "source": [
    "def day2_part2(puzzle_input):\n",
    "    totalScore = 0\n",
    "    for rounds in puzzle_input:\n",
    "        round = rounds.split()\n",
    "        totalScore += calculate_score(get_move(round[0]), get_move_from_need(get_move(round[0]),round[1]))\n",
    "        \n",
    "    return totalScore"
   ]
  },
  {
   "cell_type": "code",
   "execution_count": 12,
   "metadata": {},
   "outputs": [
    {
     "name": "stdout",
     "output_type": "stream",
     "text": [
      "8392\n",
      "10116\n"
     ]
    }
   ],
   "source": [
    "print(day2_part1(pathlib.Path(filePath + 'day2.txt').read_text().splitlines()))\n",
    "print(day2_part2(pathlib.Path(filePath + 'day2.txt').read_text().splitlines()))"
   ]
  },
  {
   "cell_type": "markdown",
   "metadata": {},
   "source": [
    "---\n",
    "\n",
    "#### Day 3 Rucksack Reorganization <sub>([link](https://adventofcode.com/2022/day/3))</sub>"
   ]
  },
  {
   "cell_type": "code",
   "execution_count": 13,
   "metadata": {},
   "outputs": [],
   "source": [
    "def day3_part1(puzzle_input):\n",
    "    \n",
    "    prioSum = 0\n",
    "    for rucksack in puzzle_input:\n",
    "    # rucksack = puzzle_input[0]\n",
    "        comp1 = rucksack[:len(rucksack)//2]\n",
    "        comp2 = rucksack[len(rucksack)//2:]\n",
    "\n",
    "        item = ''.join(set(comp1).intersection(comp2))\n",
    "        # print(item, ord(item)-38 if item.isupper() else ord(item)-96)\n",
    "        prioSum += ord(item)-38 if item.isupper() else ord(item)-96\n",
    "    \n",
    "    return prioSum"
   ]
  },
  {
   "cell_type": "code",
   "execution_count": 14,
   "metadata": {},
   "outputs": [],
   "source": [
    "def day3_part2(puzzle_input):\n",
    "    newInput = [puzzle_input[i:i+3] for i in range(0, len(puzzle_input),3)]\n",
    "\n",
    "    prioSum = 0\n",
    "    for group in newInput:\n",
    "        # group = newInput[0]\n",
    "        bag1 = group[0]\n",
    "        bag2 = group[1]\n",
    "        bag3 = group[2]\n",
    "\n",
    "        item = ''.join(set(bag1).intersection(bag2).intersection(bag3))\n",
    "        \n",
    "        prioSum += ord(item)-38 if item.isupper() else ord(item)-96\n",
    "\n",
    "    return prioSum"
   ]
  },
  {
   "cell_type": "code",
   "execution_count": 15,
   "metadata": {},
   "outputs": [
    {
     "name": "stdout",
     "output_type": "stream",
     "text": [
      "7990\n",
      "2602\n"
     ]
    }
   ],
   "source": [
    "print(day3_part1(pathlib.Path(filePath + 'day3.txt').read_text().splitlines()))\n",
    "print(day3_part2(pathlib.Path(filePath + 'day3.txt').read_text().splitlines()))"
   ]
  },
  {
   "cell_type": "markdown",
   "metadata": {},
   "source": [
    "---\n",
    "\n",
    "#### Day 4 Camp Cleanup <sub>([link](https://adventofcode.com/2022/day/4))</sub>"
   ]
  },
  {
   "cell_type": "code",
   "execution_count": 16,
   "metadata": {},
   "outputs": [],
   "source": [
    "def day4_isSubset(range1, range2):\n",
    "    ret = False\n",
    "    if range1.start in range2 and range1[-1] in range2 and not ret: return True\n",
    "    if range2.start in range1 and range2[-1] in range1 and not ret: return True\n",
    "    return ret"
   ]
  },
  {
   "cell_type": "code",
   "execution_count": 17,
   "metadata": {},
   "outputs": [],
   "source": [
    "def day4_part1(puzzle_input):\n",
    "    countSubset = 0\n",
    "    for elfGroup in puzzle_input:\n",
    "    # elfGroup = puzzle_input[0]\n",
    "\n",
    "        elf1Range = range(int(elfGroup.split(',')[0].split('-')[0]) , int(elfGroup.split(',')[0].split('-')[1])+1)\n",
    "        elf2Range = range(int(elfGroup.split(',')[1].split('-')[0]) , int(elfGroup.split(',')[1].split('-')[1])+1)\n",
    "        if day4_isSubset(elf1Range, elf2Range): countSubset += 1\n",
    "    \n",
    "    return countSubset"
   ]
  },
  {
   "cell_type": "code",
   "execution_count": 18,
   "metadata": {},
   "outputs": [],
   "source": [
    "def day4_part2(puzzle_input):\n",
    "    countOverlap = 0\n",
    "    for elfGroup in puzzle_input:\n",
    "        elf1Set = set(range(int(elfGroup.split(',')[0].split('-')[0]) , int(elfGroup.split(',')[0].split('-')[1])+1))\n",
    "        elf2Set = set(range(int(elfGroup.split(',')[1].split('-')[0]) , int(elfGroup.split(',')[1].split('-')[1])+1))\n",
    "\n",
    "        if len(elf1Set.intersection(elf2Set)) > 0:\n",
    "            countOverlap += 1\n",
    "\n",
    "    return countOverlap"
   ]
  },
  {
   "cell_type": "code",
   "execution_count": 19,
   "metadata": {},
   "outputs": [
    {
     "name": "stdout",
     "output_type": "stream",
     "text": [
      "477\n",
      "830\n"
     ]
    }
   ],
   "source": [
    "print(day4_part1(pathlib.Path(filePath + 'day4.txt').read_text().splitlines()))\n",
    "print(day4_part2(pathlib.Path(filePath + 'day4.txt').read_text().splitlines()))"
   ]
  },
  {
   "cell_type": "markdown",
   "metadata": {},
   "source": [
    "---\n",
    "\n",
    "#### Day 5 Supply Stacks <sub>([link](https://adventofcode.com/2022/day/5))</sub>"
   ]
  },
  {
   "cell_type": "code",
   "execution_count": 20,
   "metadata": {},
   "outputs": [],
   "source": [
    "def day5_SplitInput(puzzle_input):\n",
    "    return puzzle_input[:puzzle_input.index('')], puzzle_input[puzzle_input.index('')+1:]\n",
    "\n",
    "def day5_BuildContainers(containerData):\n",
    "    manifest = []\n",
    "    bucketAmount = 0\n",
    "    for row in reversed(containerData):\n",
    "        if ' 1 ' in row: \n",
    "            bucketAmount = int(max(row))\n",
    "            for i in range(0, bucketAmount):\n",
    "                manifest.append([])\n",
    "\n",
    "            continue\n",
    "\n",
    "        # print(row)\n",
    "        for idx, item in enumerate([row[x:x+4] for x in range(0, len(row), 4)]):\n",
    "            # print(idx, item.strip(' []'))\n",
    "            if item.strip(' []') == '': continue\n",
    "            manifest[idx].append(item.strip(' []'))\n",
    "        \n",
    "    return manifest\n",
    "\n",
    "def day5_PrintManifest(manifest):\n",
    "    print('---')\n",
    "    print('\\n'.join(' '.join(str(x) for x in row) for row in manifest))\n",
    "    print('---')\n",
    "\n",
    "\n",
    "def day5_StripCommands(command): # Only works given the format of xxx # xxx # xxx #\n",
    "    return int(command.split()[1]), int(command.split()[3]), int(command.split()[5]) \n",
    "\n",
    "def day5_MoveContainer(manifest, amount, source, dest):\n",
    "    sourceIdx = source - 1\n",
    "    destIdx = dest - 1\n",
    "\n",
    "    for i in range(0, amount):\n",
    "        manifest[destIdx].append(manifest[sourceIdx].pop())\n",
    "    \n",
    "    return manifest\n",
    "\n",
    "def day5_MoveMultiContainer(manifest, amount, source, dest):\n",
    "    sourceIdx = source - 1\n",
    "    destIdx = dest - 1\n",
    "\n",
    "    newSource, stack = manifest[sourceIdx][:len(manifest[sourceIdx])-amount], manifest[sourceIdx][len(manifest[sourceIdx])-amount:]\n",
    "    manifest[sourceIdx] = newSource\n",
    "    manifest[destIdx].extend(stack)\n",
    "\n",
    "    return manifest\n",
    "\n",
    "def day5_ExtractResult(manifest):\n",
    "    result = []\n",
    "\n",
    "    for column in manifest:\n",
    "        result.append(column[-1])\n",
    "\n",
    "    return ''.join(result)"
   ]
  },
  {
   "cell_type": "code",
   "execution_count": 21,
   "metadata": {},
   "outputs": [],
   "source": [
    "def day5_part1(puzzle_input):\n",
    "    \n",
    "    containerData, movesData = day5_SplitInput(puzzle_input)\n",
    "\n",
    "    manifest = day5_BuildContainers(containerData)\n",
    "\n",
    "    for move in movesData:\n",
    "        amount, source, dest = day5_StripCommands(move)\n",
    "        manifest = day5_MoveContainer(manifest, amount, source, dest)\n",
    "\n",
    "    # day5_PrintManifest(manifest)\n",
    "    \n",
    "    return day5_ExtractResult(manifest)"
   ]
  },
  {
   "cell_type": "code",
   "execution_count": 22,
   "metadata": {},
   "outputs": [],
   "source": [
    "def day5_part2(puzzle_input):\n",
    "    containerData, movesData = day5_SplitInput(puzzle_input)\n",
    "    manifest = day5_BuildContainers(containerData)\n",
    "\n",
    "    for move in movesData:\n",
    "    # move = movesData[0]\n",
    "        amount, source, dest = day5_StripCommands(move)\n",
    "        manifest = day5_MoveMultiContainer(manifest, amount, source, dest)\n",
    "\n",
    "    # day5_PrintManifest(manifest)  \n",
    "\n",
    "    return day5_ExtractResult(manifest)"
   ]
  },
  {
   "cell_type": "code",
   "execution_count": 23,
   "metadata": {},
   "outputs": [
    {
     "name": "stdout",
     "output_type": "stream",
     "text": [
      "NTWZZWHFV\n",
      "BRZGFVBTJ\n"
     ]
    }
   ],
   "source": [
    "print(day5_part1(pathlib.Path(filePath + 'day5.txt').read_text().splitlines()))\n",
    "print(day5_part2(pathlib.Path(filePath + 'day5.txt').read_text().splitlines()))"
   ]
  },
  {
   "cell_type": "markdown",
   "metadata": {},
   "source": [
    "---\n",
    "\n",
    "#### Day 6 Tuning Trouble <sub>([link](https://adventofcode.com/2022/day/6))</sub>"
   ]
  },
  {
   "cell_type": "code",
   "execution_count": 24,
   "metadata": {},
   "outputs": [],
   "source": [
    "def day6_CheckUnique(data):\n",
    "    return len(set(data)) == len(data)\n"
   ]
  },
  {
   "cell_type": "code",
   "execution_count": 25,
   "metadata": {},
   "outputs": [],
   "source": [
    "def day6_part1(puzzle_input):\n",
    "    dataBuf = list(reversed(puzzle_input))\n",
    "    readBuf = []\n",
    "    uniqueLen = 3\n",
    "\n",
    "    for i in range(0, uniqueLen):\n",
    "        readBuf.append(dataBuf.pop())\n",
    "\n",
    "    for i in range(0, len(dataBuf)):\n",
    "        readBuf.append(dataBuf.pop())\n",
    "        if day6_CheckUnique(readBuf[-1*(uniqueLen+1):]): return len(readBuf)\n",
    "\n",
    "    print(dataBuf)\n",
    "    return 0"
   ]
  },
  {
   "cell_type": "code",
   "execution_count": 26,
   "metadata": {},
   "outputs": [],
   "source": [
    "def day6_part2(puzzle_input):\n",
    "    dataBuf = list(reversed(puzzle_input))\n",
    "    readBuf = []\n",
    "    uniqueLen = 13\n",
    "\n",
    "    for i in range(0, uniqueLen):\n",
    "        readBuf.append(dataBuf.pop())\n",
    "\n",
    "    for i in range(0, len(dataBuf)):\n",
    "        readBuf.append(dataBuf.pop())\n",
    "        if day6_CheckUnique(readBuf[-1*(uniqueLen+1):]): return len(readBuf)\n",
    "\n",
    "    print(dataBuf)\n",
    "    return 0"
   ]
  },
  {
   "cell_type": "code",
   "execution_count": 27,
   "metadata": {},
   "outputs": [
    {
     "name": "stdout",
     "output_type": "stream",
     "text": [
      "1723\n",
      "3708\n"
     ]
    }
   ],
   "source": [
    "print(day6_part1(pathlib.Path(filePath + 'day6.txt').read_text()))\n",
    "print(day6_part2(pathlib.Path(filePath + 'day6.txt').read_text()))"
   ]
  },
  {
   "attachments": {},
   "cell_type": "markdown",
   "metadata": {},
   "source": [
    "---\n",
    "\n",
    "#### Day 7 No Space Left on Device <sub>([link](https://adventofcode.com/2022/day/7))</sub>"
   ]
  },
  {
   "attachments": {},
   "cell_type": "markdown",
   "metadata": {},
   "source": [
    "Note that part two was solved using an online solution. The solution by me seems to misshandle file and folder sizes on duplicate file names."
   ]
  },
  {
   "cell_type": "code",
   "execution_count": 28,
   "metadata": {},
   "outputs": [],
   "source": [
    "@dataclass\n",
    "class fileItem:\n",
    "    fileName: str\n",
    "    size: int\n",
    "\n",
    "    def __str__(self):\n",
    "        return f'{self.fileName} (file, size={self.size})'\n",
    "\n",
    "@dataclass\n",
    "class directoryItem:\n",
    "    name: str\n",
    "    path: str\n",
    "    directories: list[any]\n",
    "    files: list[fileItem]\n",
    "    size: int = 0\n",
    "\n",
    "\n",
    "    def addDir(self, dir):\n",
    "        if any( obj.path == dir.path for obj in self.directories):\n",
    "            return \n",
    "        self.directories.append(dir)\n",
    "        self.size += dir.size\n",
    "\n",
    "    def getDirIndex(self, name):\n",
    "        for index, x in enumerate(self.directories):\n",
    "            if x.name == name: return index, x\n",
    "        return -1, None\n",
    "\n",
    "    def addFile(self, f):\n",
    "        if any(obj.fileName == f.fileName for obj in self.files):\n",
    "            return \n",
    "        else:\n",
    "            self.files.append(f)\n",
    "            self.size += f.size\n",
    "\n",
    "    def calcFileSize():\n",
    "        pass\n",
    "\n",
    "    def __str__(self):\n",
    "        return f'{self.name} (dir, size={self.size})'\n",
    "\n",
    "    def output(self, depth):\n",
    "        print(('\\t'* depth) + '-', str(self))\n",
    "\n",
    "        if depth == 4:\n",
    "            print('...')\n",
    "            return\n",
    "\n",
    "        for dir in self.directories:\n",
    "            dir.output(depth+1)\n",
    "            pass\n",
    "\n",
    "        for f in self.files:\n",
    "            print(('\\t'* (depth+1)) + '-', f)\n",
    "            pass\n",
    "\n",
    "def getIndex(li, target):\n",
    "    for index, x in enumerate(li[::-1]):\n",
    "        if x.path == target:\n",
    "            return len(li) - 1 - index\n",
    "    return -1\n",
    "\n",
    "def day7_buildStructure(itemList):\n",
    "\n",
    "    navStack = ['/']\n",
    "    #* Build Dirs to Populate\n",
    "    dirsToBuild = [directoryItem('/','/',[], [])]\n",
    "    for line in itemList:\n",
    "        # el = line.split()\n",
    "        # if el[0] != 'dir': continue\n",
    "\n",
    "        # dirsToBuild.append(directoryItem(el[1],[], []))\n",
    "        if line[0] != '$': \n",
    "            el = line.split()\n",
    "            if el[0] == 'dir':\n",
    "                dirsToBuild.append(directoryItem(el[1],''.join(navStack)+el[1],[], []))\n",
    "        \n",
    "        else:            \n",
    "            el = line.split()\n",
    "            if el[1] == 'cd':\n",
    "                # TODO Adjust NavStack to proper position\n",
    "                if el[2] == '..': navStack.pop()\n",
    "                elif el[2] == '/': navStack = ['/']\n",
    "                else: navStack.append(el[2])\n",
    "        \n",
    "\n",
    "        \n",
    "\n",
    "    navStack = ['/']\n",
    "    #* Populate Files\n",
    "    for line in itemList:\n",
    "        # print(line)\n",
    "        if line[0] != '$': \n",
    "            el = line.split()\n",
    "            if el[0] == 'dir':\n",
    "                pass\n",
    "                # buildingDir.addDir(directoryItem(el[1],[],[]))\n",
    "            else:\n",
    "                buildingDirIndex = getIndex(dirsToBuild, ''.join(navStack))\n",
    "                dirsToBuild[buildingDirIndex].addFile(fileItem(el[1], int(el[0])))\n",
    "                # print('Adding file to', dirsToBuild[buildingDirIndex])\n",
    "        \n",
    "        else:            \n",
    "            el = line.split()\n",
    "            if el[1] == 'cd':\n",
    "                # TODO Adjust NavStack to proper position\n",
    "                if el[2] == '..': navStack.pop()\n",
    "                elif el[2] == '/': navStack = ['/']\n",
    "                else: navStack.append(el[2])\n",
    "\n",
    "    navStack = ['/']\n",
    "    #* Link dirs\n",
    "    for line in itemList:\n",
    "        if line[0] != '$': \n",
    "            el = line.split()\n",
    "            if el[0] == 'dir':\n",
    "                buildingDirIndex = getIndex(dirsToBuild, ''.join(navStack))\n",
    "                insertingElementIndex = getIndex(dirsToBuild, ''.join(navStack)+el[1])\n",
    "                dirsToBuild[buildingDirIndex].addDir(dirsToBuild[insertingElementIndex])\n",
    "        else:            \n",
    "            el = line.split()\n",
    "            if el[1] == 'cd':\n",
    "                # print(line)\n",
    "                # TODO Adjust NavStack to proper position\n",
    "                if el[2] == '..': navStack.pop()\n",
    "                elif el[2] == '/': navStack = ['/']\n",
    "                else: navStack.append(el[2])\n",
    "                # print('/'.join(navStack))\n",
    "\n",
    "\n",
    "    \n",
    "    folderRoot = dirsToBuild[getIndex(dirsToBuild,'/')]\n",
    "    return folderRoot, dirsToBuild\n",
    "\n",
    "# print(day7_part1(pathlib.Path(filePath + 'day7.txt').read_text().splitlines()))\n"
   ]
  },
  {
   "cell_type": "code",
   "execution_count": 29,
   "metadata": {},
   "outputs": [],
   "source": [
    "def day7_Solution(output):\n",
    "    folders: dict[str, int] = {}\n",
    "    path: list[str] = ['/']\n",
    "    current_path: str = ''.join(path)\n",
    "    folders.setdefault(current_path, 0)\n",
    " \n",
    "    for line in output:\n",
    "        if line[0] == \"ls\":\n",
    "            continue\n",
    "        elif line[0] == \"dir\":\n",
    "            folders.setdefault(current_path + line[1] + '/', 0)\n",
    "        elif line[0].isdigit():\n",
    "            folders[current_path] += int(line[0])\n",
    "        elif line[0] == \"cd\":\n",
    "            if line[1] == \"..\":\n",
    "                # Account for subfolder size\n",
    "                subfolder_size: int = folders.get(current_path)\n",
    "                path.pop()\n",
    "                current_path = ''.join(path)\n",
    "                folders[current_path] += subfolder_size\n",
    "            elif line[1] == '/':\n",
    "                path = [line[1]]\n",
    "                current_path = ''.join(path)\n",
    "            else:\n",
    "                path.append(line[1] + '/')\n",
    "                current_path = ''.join(path)\n",
    " \n",
    "    # Add folder size for any remaining folders in stack\n",
    "    for n in range(len(path) - 1):\n",
    "        subfolder_size = folders.get(current_path)\n",
    "        path.pop()\n",
    "        current_path = ''.join(path)\n",
    "        folders[current_path] += subfolder_size\n",
    " \n",
    "    return folders"
   ]
  },
  {
   "cell_type": "code",
   "execution_count": 30,
   "metadata": {},
   "outputs": [],
   "source": [
    "def day7_part1(puzzle_input):\n",
    "    # print(puzzle_input)\n",
    "    structure, dirList = day7_buildStructure(puzzle_input)\n",
    "\n",
    "    \n",
    "    # sys.setrecursionlimit(10000)\n",
    "\n",
    "    # # structure.output(0)\n",
    "\n",
    "    retVal = 0\n",
    "    for dir in dirList:\n",
    "        # print(dir)\n",
    "        \n",
    "        if dir.size <= 100000:\n",
    "            # print(dir)\n",
    "            retVal += dir.size\n",
    "    # print(retVal)\n",
    "\n",
    "\n",
    "    return retVal\n",
    "\n",
    "    # datasub = [line.replace('$ ', '') for line in puzzle_input]\n",
    "    # data = [line.split(' ') for line in datasub]\n",
    "    # folders = day7_Solution(data)\n",
    "\n",
    "    # # for v in folders.values():\n",
    "    # #     if v <= 100000: print(v)\n",
    "    # print(sum(v for v in folders.values() if v<= 100000))\n",
    "    \n",
    "\n",
    "    pass\n",
    "    \n"
   ]
  },
  {
   "cell_type": "code",
   "execution_count": 31,
   "metadata": {},
   "outputs": [],
   "source": [
    "def day7_part2(puzzle_input):\n",
    "    structure, dirList = day7_buildStructure(puzzle_input)\n",
    "    totalFS = 70000000\n",
    "    totalSpaceRemaining = totalFS - structure.size\n",
    "\n",
    "    # structure.output(0)\n",
    "\n",
    "    # for item in dirList:\n",
    "    #     print(item)\n",
    "    # print(totalSpaceRemaining)\n",
    "\n",
    "\n",
    "    datasub = [line.replace('$ ', '') for line in puzzle_input]\n",
    "    data = [line.split(' ') for line in datasub]\n",
    "\n",
    "    dirs: dict[str, int] = day7_Solution(data[1:])\n",
    "    total: int = 70000000\n",
    "    space_needed: int = 30000000\n",
    "    space_used: int = dirs.get('/')\n",
    "    unused_space: int = total - space_used\n",
    " \n",
    "    return min(v for v in dirs.values() if v > (space_needed - unused_space))\n"
   ]
  },
  {
   "cell_type": "code",
   "execution_count": 32,
   "metadata": {},
   "outputs": [
    {
     "name": "stdout",
     "output_type": "stream",
     "text": [
      "1778099\n",
      "1623571\n"
     ]
    }
   ],
   "source": [
    "print(day7_part1(pathlib.Path(filePath + 'day7.txt').read_text().splitlines()))\n",
    "print(day7_part2(pathlib.Path(filePath + 'day7.txt').read_text().splitlines()))"
   ]
  },
  {
   "attachments": {},
   "cell_type": "markdown",
   "metadata": {},
   "source": [
    "---\n",
    "\n",
    "#### Day 8 Treetop Tree House <sub>([link](https://adventofcode.com/2022/day/8))</sub>"
   ]
  },
  {
   "cell_type": "code",
   "execution_count": 33,
   "metadata": {},
   "outputs": [],
   "source": [
    "def day8_():\n",
    "    pass\n"
   ]
  },
  {
   "cell_type": "code",
   "execution_count": 76,
   "metadata": {},
   "outputs": [],
   "source": [
    "def day8_part1(puzzle_input):\n",
    "    data = np.array([list(row) for row in puzzle_input])\n",
    "    visibleTrees = 0 #((len(data[0])-2) * 2) + ((len(data))*2)\n",
    "    maxY = len(data[0])-1\n",
    "    maxX = len(data)-1\n",
    "\n",
    "    # print(data)\n",
    "    \n",
    "    for iy, ix in np.ndindex(data.shape):\n",
    "        # print(f'coord: {iy}, {ix} is {data[iy,ix]}')\n",
    "        if iy == 0 or iy == maxY or ix == 0 or ix == maxX:\n",
    "            visibleTrees += 1\n",
    "            continue\n",
    "        \n",
    "        upMax = max(data[:iy, ix])\n",
    "        downMax = max(data[iy+1:,ix])\n",
    "        leftMax = max(data[iy,:ix])\n",
    "        rightMax = max(data[iy,ix+1:])\n",
    "\n",
    "        if upMax < data[iy,ix] or downMax < data[iy,ix] \\\n",
    "            or leftMax < data[iy,ix] or rightMax < data[iy,ix]:\n",
    "            visibleTrees += 1\n",
    "            continue        \n",
    "\n",
    "    return visibleTrees"
   ]
  },
  {
   "cell_type": "code",
   "execution_count": 96,
   "metadata": {},
   "outputs": [],
   "source": [
    "def day8_part2(puzzle_input):\n",
    "    data = np.array([list(row) for row in puzzle_input])\n",
    "    maxScenicScore = 0 \n",
    "    maxY = len(data[0])-1\n",
    "    maxX = len(data)-1\n",
    "\n",
    "    # print(data)\n",
    "    for iy, ix in np.ndindex(data.shape):\n",
    "        # print(f'coord: {iy}, {ix} is {data[iy,ix]}')\n",
    "        if iy == 0 or iy == maxY or ix == 0 or ix == maxX:\n",
    "            # print(f'coord: {iy}, {ix} is {data[iy,ix]} w/ score {0}')\n",
    "            maxScenicScore = max(maxScenicScore, 0) # Edges will always have 0 scenic score\n",
    "            continue\n",
    "\n",
    "        upScore = next((idx+1 for idx, val in enumerate(data[:iy, ix][::-1]) if val >= data[iy,ix]), len(data[:iy, ix]))\n",
    "        downScore = next((idx+1 for idx, val in enumerate(data[iy+1:,ix]) if val >= data[iy,ix]), len(data[iy+1:,ix]))\n",
    "        leftScore = next((idx+1 for idx, val in enumerate(data[iy,:ix][::-1]) if val >= data[iy,ix]), len(data[iy,:ix]))\n",
    "        rightScore = next((idx+1 for idx, val in enumerate(data[iy,ix+1:]) if val >= data[iy,ix]), len(data[iy,ix+1:]))\n",
    "    \n",
    "        # print(f'coord: {iy}, {ix} is {data[iy,ix]} w/ score {upScore*downScore*leftScore*rightScore}')\n",
    "        # if iy == 2 and ix == 1: \n",
    "        #     print(data[:iy, ix], data[iy+1:,ix], data[iy,:ix], data[iy,ix+1:])\n",
    "        #     print(upScore, downScore, leftScore, rightScore)\n",
    "        #     print(upScore*downScore*leftScore*rightScore)\n",
    "\n",
    "        maxScenicScore = max(maxScenicScore, upScore*downScore*leftScore*rightScore)\n",
    "    \n",
    "    return maxScenicScore\n",
    "# print(day8_part2(pathlib.Path(filePath + 'day8.txt').read_text().splitlines()))"
   ]
  },
  {
   "cell_type": "code",
   "execution_count": 97,
   "metadata": {},
   "outputs": [
    {
     "name": "stdout",
     "output_type": "stream",
     "text": [
      "1818\n",
      "368368\n"
     ]
    }
   ],
   "source": [
    "print(day8_part1(pathlib.Path(filePath + 'day8.txt').read_text().splitlines()))\n",
    "print(day8_part2(pathlib.Path(filePath + 'day8.txt').read_text().splitlines()))"
   ]
  },
  {
   "attachments": {},
   "cell_type": "markdown",
   "metadata": {},
   "source": [
    "---\n",
    "\n",
    "#### Day 9 Rope Bridge <sub>([link](https://adventofcode.com/2022/day/))</sub>"
   ]
  },
  {
   "cell_type": "code",
   "execution_count": null,
   "metadata": {},
   "outputs": [],
   "source": [
    "def day9_():\n",
    "    pass"
   ]
  },
  {
   "cell_type": "code",
   "execution_count": null,
   "metadata": {},
   "outputs": [],
   "source": [
    "def day9_part1(puzzle_input):\n",
    "    pass\n"
   ]
  },
  {
   "cell_type": "code",
   "execution_count": null,
   "metadata": {},
   "outputs": [],
   "source": [
    "def day9_part2(puzzle_input):\n",
    "    pass\n"
   ]
  },
  {
   "cell_type": "code",
   "execution_count": null,
   "metadata": {},
   "outputs": [
    {
     "name": "stdout",
     "output_type": "stream",
     "text": [
      "1778099\n",
      "1623571\n"
     ]
    }
   ],
   "source": [
    "print(day9_part1(pathlib.Path(filePath + 'day7.txt').read_text().splitlines()))\n",
    "print(day9_part2(pathlib.Path(filePath + 'day7.txt').read_text().splitlines()))"
   ]
  }
 ],
 "metadata": {
  "kernelspec": {
   "display_name": "Python 3 (ipykernel)",
   "language": "python",
   "name": "python3"
  },
  "language_info": {
   "codemirror_mode": {
    "name": "ipython",
    "version": 3
   },
   "file_extension": ".py",
   "mimetype": "text/x-python",
   "name": "python",
   "nbconvert_exporter": "python",
   "pygments_lexer": "ipython3",
   "version": "3.10.6"
  },
  "orig_nbformat": 4,
  "vscode": {
   "interpreter": {
    "hash": "10abf9995eef367e077ab26cdbe905ef83363ea67f2a57c0b056f6f2606fcf50"
   }
  }
 },
 "nbformat": 4,
 "nbformat_minor": 2
}
